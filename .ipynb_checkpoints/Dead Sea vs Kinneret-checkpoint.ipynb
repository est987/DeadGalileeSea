{
 "cells": [
  {
   "cell_type": "code",
   "execution_count": 32,
   "metadata": {},
   "outputs": [],
   "source": [
    "import pandas as pd\n",
    "import matplotlib.pyplot as plt\n",
    "import numpy as np\n",
    "import urllib, json\n",
    "import matplotlib.dates as mdates\n",
    "from pandas.plotting import register_matplotlib_converters\n",
    "register_matplotlib_converters()\n",
    "# #load data\n",
    "# k_df = pd.read_csv('data/kinneret_level.csv')\n",
    "# ds_df = pd.read_csv('data/dead_sea_level.csv')\n",
    "\n",
    "# #rename columns\n",
    "# ds_df = ds_df.rename(columns={'תאריך מדידה':'date','מפלס':'ds_level'})\n",
    "# k_df = k_df.rename(columns={'תאריך מדידה':'date','מפלס הכנרת במטרים':'k_level'})\n",
    "\n"
   ]
  },
  {
   "cell_type": "code",
   "execution_count": 33,
   "metadata": {},
   "outputs": [
    {
     "data": {
      "text/html": [
       "<div>\n",
       "<style scoped>\n",
       "    .dataframe tbody tr th:only-of-type {\n",
       "        vertical-align: middle;\n",
       "    }\n",
       "\n",
       "    .dataframe tbody tr th {\n",
       "        vertical-align: top;\n",
       "    }\n",
       "\n",
       "    .dataframe thead th {\n",
       "        text-align: right;\n",
       "    }\n",
       "</style>\n",
       "<table border=\"1\" class=\"dataframe\">\n",
       "  <thead>\n",
       "    <tr style=\"text-align: right;\">\n",
       "      <th></th>\n",
       "      <th>ds_level</th>\n",
       "      <th>date</th>\n",
       "      <th>year</th>\n",
       "    </tr>\n",
       "  </thead>\n",
       "  <tbody>\n",
       "    <tr>\n",
       "      <th>607</th>\n",
       "      <td>-434.41</td>\n",
       "      <td>2020-02-02</td>\n",
       "      <td>2020</td>\n",
       "    </tr>\n",
       "    <tr>\n",
       "      <th>608</th>\n",
       "      <td>-434.37</td>\n",
       "      <td>2020-03-01</td>\n",
       "      <td>2020</td>\n",
       "    </tr>\n",
       "    <tr>\n",
       "      <th>609</th>\n",
       "      <td>-434.26</td>\n",
       "      <td>2020-04-01</td>\n",
       "      <td>2020</td>\n",
       "    </tr>\n",
       "    <tr>\n",
       "      <th>610</th>\n",
       "      <td>-434.31</td>\n",
       "      <td>2020-05-01</td>\n",
       "      <td>2020</td>\n",
       "    </tr>\n",
       "    <tr>\n",
       "      <th>611</th>\n",
       "      <td>-434.31</td>\n",
       "      <td>2020-05-03</td>\n",
       "      <td>2020</td>\n",
       "    </tr>\n",
       "  </tbody>\n",
       "</table>\n",
       "</div>"
      ],
      "text/plain": [
       "     ds_level       date  year\n",
       "607   -434.41 2020-02-02  2020\n",
       "608   -434.37 2020-03-01  2020\n",
       "609   -434.26 2020-04-01  2020\n",
       "610   -434.31 2020-05-01  2020\n",
       "611   -434.31 2020-05-03  2020"
      ]
     },
     "execution_count": 33,
     "metadata": {},
     "output_type": "execute_result"
    }
   ],
   "source": [
    "#LOAD DEAD SEA DATA\n",
    "url = 'https://data.gov.il/api/action/datastore_search?resource_id=823479b4-4771-43d8-9189-6a2a1dcaaf10&limit=10000'\n",
    "fileobj = urllib.request.urlopen(url) \n",
    "data = json.loads(fileobj.read())\n",
    "ds_df = pd.DataFrame(data['result']['records'])\n",
    "ds_df = ds_df.rename(columns={'תאריך מדידה':'date','מפלס':'ds_level'}).drop(columns='_id')\n",
    "ds_df['ds_level'] = ds_df['ds_level'].astype('float')\n",
    "#sort by date\n",
    "ds_df['date'] = pd.to_datetime(ds_df['date'], format='%d/%m/%Y')\n",
    "ds_df = ds_df.sort_values(by='date').reset_index(drop=True)\n",
    "ds_df['year'] = ds_df['date'].dt.year\n",
    "\n",
    "\n",
    "ds_df.tail()"
   ]
  },
  {
   "cell_type": "code",
   "execution_count": 34,
   "metadata": {},
   "outputs": [
    {
     "data": {
      "text/html": [
       "<div>\n",
       "<style scoped>\n",
       "    .dataframe tbody tr th:only-of-type {\n",
       "        vertical-align: middle;\n",
       "    }\n",
       "\n",
       "    .dataframe tbody tr th {\n",
       "        vertical-align: top;\n",
       "    }\n",
       "\n",
       "    .dataframe thead th {\n",
       "        text-align: right;\n",
       "    }\n",
       "</style>\n",
       "<table border=\"1\" class=\"dataframe\">\n",
       "  <thead>\n",
       "    <tr style=\"text-align: right;\">\n",
       "      <th></th>\n",
       "      <th>k_level</th>\n",
       "      <th>date</th>\n",
       "      <th>year</th>\n",
       "    </tr>\n",
       "  </thead>\n",
       "  <tbody>\n",
       "    <tr>\n",
       "      <th>0</th>\n",
       "      <td>-210.02</td>\n",
       "      <td>1966-09-01</td>\n",
       "      <td>1966</td>\n",
       "    </tr>\n",
       "    <tr>\n",
       "      <th>1</th>\n",
       "      <td>-210.13</td>\n",
       "      <td>1966-09-15</td>\n",
       "      <td>1966</td>\n",
       "    </tr>\n",
       "    <tr>\n",
       "      <th>2</th>\n",
       "      <td>-210.27</td>\n",
       "      <td>1966-10-01</td>\n",
       "      <td>1966</td>\n",
       "    </tr>\n",
       "    <tr>\n",
       "      <th>3</th>\n",
       "      <td>-210.32</td>\n",
       "      <td>1966-10-15</td>\n",
       "      <td>1966</td>\n",
       "    </tr>\n",
       "    <tr>\n",
       "      <th>4</th>\n",
       "      <td>-210.39</td>\n",
       "      <td>1966-11-01</td>\n",
       "      <td>1966</td>\n",
       "    </tr>\n",
       "  </tbody>\n",
       "</table>\n",
       "</div>"
      ],
      "text/plain": [
       "   k_level       date  year\n",
       "0  -210.02 1966-09-01  1966\n",
       "1  -210.13 1966-09-15  1966\n",
       "2  -210.27 1966-10-01  1966\n",
       "3  -210.32 1966-10-15  1966\n",
       "4  -210.39 1966-11-01  1966"
      ]
     },
     "execution_count": 34,
     "metadata": {},
     "output_type": "execute_result"
    }
   ],
   "source": [
    "#LOAD SEA GALILEE DATA\n",
    "url = 'https://data.gov.il/api/action/datastore_search?resource_id=2de7b543-e13d-4e7e-b4c8-56071bc4d3c8&limit=15000'\n",
    "fileobj = urllib.request.urlopen(url) \n",
    "data = json.loads(fileobj.read())\n",
    "k_df = pd.DataFrame(data['result']['records'])\n",
    "k_df = k_df.rename(columns={'Survey_Date':'date','Kinneret_Level':'k_level'}).drop(columns='_id')\n",
    "k_df.head()\n",
    "# #sort by date\n",
    "k_df['date'] = pd.to_datetime(k_df['date'])\n",
    "k_df = k_df.sort_values(by='date').reset_index(drop=True)\n",
    "k_df['year'] = k_df['date'].dt.year\n",
    "\n",
    "k_df.head()"
   ]
  },
  {
   "cell_type": "code",
   "execution_count": 35,
   "metadata": {},
   "outputs": [],
   "source": [
    "# #datetime\n",
    "# k_df['date'] = pd.to_datetime(k_df['date'],format='%d %b %Y')\n",
    "# ds_df['date'] = pd.to_datetime(ds_df['date'],format='%d/%m/%Y')\n",
    "# k_df['year'] = k_df['date'].dt.year\n",
    "# ds_df['year'] = ds_df['date'].dt.year\n"
   ]
  },
  {
   "cell_type": "code",
   "execution_count": 36,
   "metadata": {},
   "outputs": [],
   "source": [
    "#clean mistake\n",
    "k_df.loc[k_df['date']=='2009-09-19','k_level'] = np.nan"
   ]
  },
  {
   "cell_type": "code",
   "execution_count": 37,
   "metadata": {},
   "outputs": [],
   "source": [
    "#merge df\n",
    "k_ds_df = k_df.merge(ds_df, on=['date','year'], how='outer').sort_values(by='date')\n",
    "#filter data from first available dead sea data\n",
    "k_ds_df_1976 = k_ds_df.loc[k_ds_df.date >= '1976-10-01'].reset_index(drop=True)\n"
   ]
  },
  {
   "cell_type": "code",
   "execution_count": 38,
   "metadata": {},
   "outputs": [
    {
     "name": "stdout",
     "output_type": "stream",
     "text": [
      "Kinneret start level (1976): -210.99\n",
      "Dead Sea start level (1976): -398.95\n"
     ]
    }
   ],
   "source": [
    "#start level\n",
    "k_start_level = k_ds_df_1976['k_level'].iloc[0]\n",
    "ds_start_level = k_ds_df_1976['ds_level'].iloc[0]\n",
    "print(\"Kinneret start level (1976): {}\".format(k_start_level))\n",
    "print(\"Dead Sea start level (1976): {}\".format(ds_start_level))"
   ]
  },
  {
   "cell_type": "code",
   "execution_count": 39,
   "metadata": {},
   "outputs": [],
   "source": [
    "#dif\n",
    "k_ds_df_1976['k_dif'] = k_ds_df_1976['k_level'] - k_start_level\n",
    "k_ds_df_1976['ds_dif'] = k_ds_df_1976['ds_level'] - ds_start_level\n",
    "k_ds_df_1976.to_csv('data/merged_ds_k.csv')\n",
    "#create clean tables for graph\n",
    "ds_final=k_ds_df_1976[['date','ds_dif']].dropna().reset_index(drop=True)\n",
    "k_final=k_ds_df_1976[['date','k_dif']].dropna().reset_index(drop=True)"
   ]
  },
  {
   "cell_type": "code",
   "execution_count": 40,
   "metadata": {},
   "outputs": [
    {
     "data": {
      "text/html": [
       "<div>\n",
       "<style scoped>\n",
       "    .dataframe tbody tr th:only-of-type {\n",
       "        vertical-align: middle;\n",
       "    }\n",
       "\n",
       "    .dataframe tbody tr th {\n",
       "        vertical-align: top;\n",
       "    }\n",
       "\n",
       "    .dataframe thead th {\n",
       "        text-align: right;\n",
       "    }\n",
       "</style>\n",
       "<table border=\"1\" class=\"dataframe\">\n",
       "  <thead>\n",
       "    <tr style=\"text-align: right;\">\n",
       "      <th></th>\n",
       "      <th>date</th>\n",
       "      <th>k_dif</th>\n",
       "    </tr>\n",
       "  </thead>\n",
       "  <tbody>\n",
       "    <tr>\n",
       "      <th>8578</th>\n",
       "      <td>2020-05-02</td>\n",
       "      <td>2.07</td>\n",
       "    </tr>\n",
       "    <tr>\n",
       "      <th>8579</th>\n",
       "      <td>2020-05-03</td>\n",
       "      <td>2.07</td>\n",
       "    </tr>\n",
       "    <tr>\n",
       "      <th>8580</th>\n",
       "      <td>2020-05-04</td>\n",
       "      <td>2.07</td>\n",
       "    </tr>\n",
       "    <tr>\n",
       "      <th>8581</th>\n",
       "      <td>2020-05-05</td>\n",
       "      <td>2.08</td>\n",
       "    </tr>\n",
       "    <tr>\n",
       "      <th>8582</th>\n",
       "      <td>2020-05-06</td>\n",
       "      <td>2.08</td>\n",
       "    </tr>\n",
       "  </tbody>\n",
       "</table>\n",
       "</div>"
      ],
      "text/plain": [
       "           date  k_dif\n",
       "8578 2020-05-02   2.07\n",
       "8579 2020-05-03   2.07\n",
       "8580 2020-05-04   2.07\n",
       "8581 2020-05-05   2.08\n",
       "8582 2020-05-06   2.08"
      ]
     },
     "execution_count": 40,
     "metadata": {},
     "output_type": "execute_result"
    }
   ],
   "source": [
    "ds_final.tail()\n",
    "k_final.tail()"
   ]
  },
  {
   "cell_type": "code",
   "execution_count": 41,
   "metadata": {
    "scrolled": true
   },
   "outputs": [
    {
     "data": {
      "image/png": "[encoded data removed]",
      "text/plain": [
       "<Figure size 576x360 with 1 Axes>"
      ]
     },
     "metadata": {
      "needs_background": "light"
     },
     "output_type": "display_data"
    }
   ],
   "source": [
    "#graph\n",
    "fig, ax = plt.subplots(figsize=(8,5))\n",
    "ax.plot(ds_final['date'], ds_final['ds_dif'],label='Dead Sea', color='orange')\n",
    "ax.plot(k_final['date'], k_final['k_dif'],label='Kinneret',color='blue' )\n",
    "ax.legend(loc='best')\n",
    "ax.set_xlabel('Year')\n",
    "ax.set_ylabel('Level change in m (since 1976)')\n",
    "fig.savefig('KinneretVsDeadSea.png', dpi=300)"
   ]
  },
  {
   "cell_type": "code",
   "execution_count": 30,
   "metadata": {},
   "outputs": [
    {
     "data": {
      "text/plain": [
       "Text(0.5, 1.0, '(םימה תושר ינותנ) חלמה םי סלפמ')"
      ]
     },
     "execution_count": 30,
     "metadata": {},
     "output_type": "execute_result"
    },
    {
     "data": {
      "image/png": "[encoded data removed]",
      "text/plain": [
       "<Figure size 576x360 with 1 Axes>"
      ]
     },
     "metadata": {
      "needs_background": "light"
     },
     "output_type": "display_data"
    }
   ],
   "source": [
    "## DEAD SEA LEVEL FROM DATE\n",
    "date =  '2017-05-01'\n",
    "\n",
    "last_year = ds_df.loc[ds_df.date>=date]\n",
    "fig, ax = plt.subplots(figsize=(8,5))\n",
    "ax.plot(last_year.date, last_year.ds_level)\n",
    "ax.set_title('מפלס ים המלח )נתוני רשות המים('[::-1])\n"
   ]
  },
  {
   "cell_type": "code",
   "execution_count": 42,
   "metadata": {},
   "outputs": [
    {
     "data": {
      "text/plain": [
       "Text(0.5, 1.0, '(םימה תושר ינותנ) תרנכה סלפמ')"
      ]
     },
     "execution_count": 42,
     "metadata": {},
     "output_type": "execute_result"
    },
    {
     "data": {
      "image/png": "[encoded data removed]",
      "text/plain": [
       "<Figure size 576x360 with 1 Axes>"
      ]
     },
     "metadata": {
      "needs_background": "light"
     },
     "output_type": "display_data"
    }
   ],
   "source": [
    "\n",
    "\n",
    "last_year = k_df.loc[k_df.date>=date]\n",
    "fig, ax = plt.subplots(figsize=(8,5))\n",
    "ax.plot(last_year.date, last_year.k_level)\n",
    "myFmt = mdates.DateFormatter('%m-%y')\n",
    "ax.xaxis.set_major_formatter(myFmt)\n",
    "ax.set_title('מפלס הכנרת )נתוני רשות המים('[::-1])\n"
   ]
  },
  {
   "cell_type": "code",
   "execution_count": null,
   "metadata": {},
   "outputs": [],
   "source": []
  }
 ],
 "metadata": {
  "kernelspec": {
   "display_name": "Python 3",
   "language": "python",
   "name": "python3"
  },
  "language_info": {
   "codemirror_mode": {
    "name": "ipython",
    "version": 3
   },
   "file_extension": ".py",
   "mimetype": "text/x-python",
   "name": "python",
   "nbconvert_exporter": "python",
   "pygments_lexer": "ipython3",
   "version": "3.7.6"
  }
 },
 "nbformat": 4,
 "nbformat_minor": 2
}
