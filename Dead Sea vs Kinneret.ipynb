{
 "cells": [
  {
   "cell_type": "code",
   "execution_count": 1,
   "metadata": {},
   "outputs": [],
   "source": [
    "import pandas as pd\n",
    "import matplotlib.pyplot as plt\n",
    "import numpy as np\n",
    "import urllib, json\n",
    "\n",
    "# #load data\n",
    "# k_df = pd.read_csv('data/kinneret_level.csv')\n",
    "# ds_df = pd.read_csv('data/dead_sea_level.csv')\n",
    "\n",
    "# #rename columns\n",
    "# ds_df = ds_df.rename(columns={'תאריך מדידה':'date','מפלס':'ds_level'})\n",
    "# k_df = k_df.rename(columns={'תאריך מדידה':'date','מפלס הכנרת במטרים':'k_level'})\n",
    "\n"
   ]
  },
  {
   "cell_type": "code",
   "execution_count": 7,
   "metadata": {},
   "outputs": [
    {
     "data": {
      "text/html": [
       "<div>\n",
       "<style scoped>\n",
       "    .dataframe tbody tr th:only-of-type {\n",
       "        vertical-align: middle;\n",
       "    }\n",
       "\n",
       "    .dataframe tbody tr th {\n",
       "        vertical-align: top;\n",
       "    }\n",
       "\n",
       "    .dataframe thead th {\n",
       "        text-align: right;\n",
       "    }\n",
       "</style>\n",
       "<table border=\"1\" class=\"dataframe\">\n",
       "  <thead>\n",
       "    <tr style=\"text-align: right;\">\n",
       "      <th></th>\n",
       "      <th>ds_level</th>\n",
       "      <th>date</th>\n",
       "      <th>year</th>\n",
       "    </tr>\n",
       "  </thead>\n",
       "  <tbody>\n",
       "    <tr>\n",
       "      <th>0</th>\n",
       "      <td>-398.95</td>\n",
       "      <td>1976-10-01</td>\n",
       "      <td>1976</td>\n",
       "    </tr>\n",
       "    <tr>\n",
       "      <th>1</th>\n",
       "      <td>-399.01</td>\n",
       "      <td>1976-11-01</td>\n",
       "      <td>1976</td>\n",
       "    </tr>\n",
       "    <tr>\n",
       "      <th>2</th>\n",
       "      <td>-399.12</td>\n",
       "      <td>1976-12-01</td>\n",
       "      <td>1976</td>\n",
       "    </tr>\n",
       "    <tr>\n",
       "      <th>3</th>\n",
       "      <td>-399.05</td>\n",
       "      <td>1977-01-01</td>\n",
       "      <td>1977</td>\n",
       "    </tr>\n",
       "    <tr>\n",
       "      <th>4</th>\n",
       "      <td>-399.04</td>\n",
       "      <td>1977-02-01</td>\n",
       "      <td>1977</td>\n",
       "    </tr>\n",
       "  </tbody>\n",
       "</table>\n",
       "</div>"
      ],
      "text/plain": [
       "   ds_level       date  year\n",
       "0   -398.95 1976-10-01  1976\n",
       "1   -399.01 1976-11-01  1976\n",
       "2   -399.12 1976-12-01  1976\n",
       "3   -399.05 1977-01-01  1977\n",
       "4   -399.04 1977-02-01  1977"
      ]
     },
     "execution_count": 7,
     "metadata": {},
     "output_type": "execute_result"
    }
   ],
   "source": [
    "#LOAD DEAD SEA DATA\n",
    "url = 'https://data.gov.il/api/action/datastore_search?resource_id=823479b4-4771-43d8-9189-6a2a1dcaaf10&limit=10000'\n",
    "fileobj = urllib.request.urlopen(url) \n",
    "data = json.loads(fileobj.read())\n",
    "ds_df = pd.DataFrame(data['result']['records'])\n",
    "ds_df = ds_df.rename(columns={'תאריך מדידה':'date','מפלס':'ds_level'}).drop(columns='_id')\n",
    "ds_df['ds_level'] = ds_df['ds_level'].astype('float')\n",
    "#sort by date\n",
    "ds_df['date'] = pd.to_datetime(ds_df['date'], format='%d/%m/%Y')\n",
    "ds_df = ds_df.sort_values(by='date').reset_index(drop=True)\n",
    "ds_df['year'] = ds_df['date'].dt.year\n",
    "\n",
    "\n",
    "ds_df.head()"
   ]
  },
  {
   "cell_type": "code",
   "execution_count": 8,
   "metadata": {},
   "outputs": [
    {
     "data": {
      "text/html": [
       "<div>\n",
       "<style scoped>\n",
       "    .dataframe tbody tr th:only-of-type {\n",
       "        vertical-align: middle;\n",
       "    }\n",
       "\n",
       "    .dataframe tbody tr th {\n",
       "        vertical-align: top;\n",
       "    }\n",
       "\n",
       "    .dataframe thead th {\n",
       "        text-align: right;\n",
       "    }\n",
       "</style>\n",
       "<table border=\"1\" class=\"dataframe\">\n",
       "  <thead>\n",
       "    <tr style=\"text-align: right;\">\n",
       "      <th></th>\n",
       "      <th>k_level</th>\n",
       "      <th>date</th>\n",
       "      <th>year</th>\n",
       "    </tr>\n",
       "  </thead>\n",
       "  <tbody>\n",
       "    <tr>\n",
       "      <th>0</th>\n",
       "      <td>-210.02</td>\n",
       "      <td>1966-09-01</td>\n",
       "      <td>1966</td>\n",
       "    </tr>\n",
       "    <tr>\n",
       "      <th>1</th>\n",
       "      <td>-210.13</td>\n",
       "      <td>1966-09-15</td>\n",
       "      <td>1966</td>\n",
       "    </tr>\n",
       "    <tr>\n",
       "      <th>2</th>\n",
       "      <td>-210.27</td>\n",
       "      <td>1966-10-01</td>\n",
       "      <td>1966</td>\n",
       "    </tr>\n",
       "    <tr>\n",
       "      <th>3</th>\n",
       "      <td>-210.32</td>\n",
       "      <td>1966-10-15</td>\n",
       "      <td>1966</td>\n",
       "    </tr>\n",
       "    <tr>\n",
       "      <th>4</th>\n",
       "      <td>-210.39</td>\n",
       "      <td>1966-11-01</td>\n",
       "      <td>1966</td>\n",
       "    </tr>\n",
       "  </tbody>\n",
       "</table>\n",
       "</div>"
      ],
      "text/plain": [
       "   k_level       date  year\n",
       "0  -210.02 1966-09-01  1966\n",
       "1  -210.13 1966-09-15  1966\n",
       "2  -210.27 1966-10-01  1966\n",
       "3  -210.32 1966-10-15  1966\n",
       "4  -210.39 1966-11-01  1966"
      ]
     },
     "execution_count": 8,
     "metadata": {},
     "output_type": "execute_result"
    }
   ],
   "source": [
    "#LOAD SEA GALILEE DATA\n",
    "url = 'https://data.gov.il/api/action/datastore_search?resource_id=2de7b543-e13d-4e7e-b4c8-56071bc4d3c8&limit=15000'\n",
    "fileobj = urllib.request.urlopen(url) \n",
    "data = json.loads(fileobj.read())\n",
    "k_df = pd.DataFrame(data['result']['records'])\n",
    "k_df = k_df.rename(columns={'Survey_Date':'date','Kinneret_Level':'k_level'}).drop(columns='_id')\n",
    "k_df.head()\n",
    "# #sort by date\n",
    "k_df['date'] = pd.to_datetime(k_df['date'])\n",
    "k_df = k_df.sort_values(by='date').reset_index(drop=True)\n",
    "k_df['year'] = k_df['date'].dt.year\n",
    "\n",
    "k_df.head()"
   ]
  },
  {
   "cell_type": "code",
   "execution_count": 9,
   "metadata": {},
   "outputs": [],
   "source": [
    "# #datetime\n",
    "# k_df['date'] = pd.to_datetime(k_df['date'],format='%d %b %Y')\n",
    "# ds_df['date'] = pd.to_datetime(ds_df['date'],format='%d/%m/%Y')\n",
    "# k_df['year'] = k_df['date'].dt.year\n",
    "# ds_df['year'] = ds_df['date'].dt.year\n"
   ]
  },
  {
   "cell_type": "code",
   "execution_count": 10,
   "metadata": {},
   "outputs": [],
   "source": [
    "#clean mistake\n",
    "k_df.loc[k_df['date']=='2009-09-19','k_level'] = np.nan"
   ]
  },
  {
   "cell_type": "code",
   "execution_count": 11,
   "metadata": {},
   "outputs": [],
   "source": [
    "#merge df\n",
    "k_ds_df = k_df.merge(ds_df, on=['date','year'], how='outer').sort_values(by='date')\n",
    "#filter data from first available dead sea data\n",
    "k_ds_df_1976 = k_ds_df.loc[k_ds_df.date >= '1976-10-01'].reset_index(drop=True)\n"
   ]
  },
  {
   "cell_type": "code",
   "execution_count": 12,
   "metadata": {},
   "outputs": [
    {
     "name": "stdout",
     "output_type": "stream",
     "text": [
      "Kinneret start level (1976): -210.99\n",
      "Dead Sea start level (1976): -398.95\n"
     ]
    }
   ],
   "source": [
    "#start level\n",
    "k_start_level = k_ds_df_1976['k_level'].iloc[0]\n",
    "ds_start_level = k_ds_df_1976['ds_level'].iloc[0]\n",
    "print(\"Kinneret start level (1976): {}\".format(k_start_level))\n",
    "print(\"Dead Sea start level (1976): {}\".format(ds_start_level))"
   ]
  },
  {
   "cell_type": "code",
   "execution_count": 14,
   "metadata": {},
   "outputs": [],
   "source": [
    "#dif\n",
    "k_ds_df_1976['k_dif'] = k_ds_df_1976['k_level'] - k_start_level\n",
    "k_ds_df_1976['ds_dif'] = k_ds_df_1976['ds_level'] - ds_start_level\n",
    "k_ds_df_1976.to_csv('data/merged_ds_k.csv')\n",
    "#create clean tables for graph\n",
    "ds_final=k_ds_df_1976[['date','ds_dif']].dropna().reset_index(drop=True)\n",
    "k_final=k_ds_df_1976[['date','k_dif']].dropna().reset_index(drop=True)"
   ]
  },
  {
   "cell_type": "code",
   "execution_count": null,
   "metadata": {},
   "outputs": [],
   "source": []
  },
  {
   "cell_type": "code",
   "execution_count": 22,
   "metadata": {
    "scrolled": true
   },
   "outputs": [
    {
     "data": {
      "image/png": "[encoded data removed]",
      "text/plain": [
       "<Figure size 576x360 with 1 Axes>"
      ]
     },
     "metadata": {
      "needs_background": "light"
     },
     "output_type": "display_data"
    }
   ],
   "source": [
    "#graph\n",
    "fig, ax = plt.subplots(figsize=(8,5))\n",
    "ax.plot(ds_final['date'], ds_final['ds_dif'],label='Dead Sea', color='orange')\n",
    "ax.plot(k_final['date'], k_final['k_dif'],label='Kinneret',color='blue' )\n",
    "ax.legend(loc='best')\n",
    "ax.set_xlabel('Year')\n",
    "ax.set_ylabel('Level change in m (since 1976)')\n",
    "fig.savefig('KinneretVsDeadSea.png', dpi=300)"
   ]
  },
  {
   "cell_type": "code",
   "execution_count": null,
   "metadata": {},
   "outputs": [],
   "source": []
  }
 ],
 "metadata": {
  "kernelspec": {
   "display_name": "Python 3",
   "language": "python",
   "name": "python3"
  },
  "language_info": {
   "codemirror_mode": {
    "name": "ipython",
    "version": 3
   },
   "file_extension": ".py",
   "mimetype": "text/x-python",
   "name": "python",
   "nbconvert_exporter": "python",
   "pygments_lexer": "ipython3",
   "version": "3.7.6"
  }
 },
 "nbformat": 4,
 "nbformat_minor": 2
}
